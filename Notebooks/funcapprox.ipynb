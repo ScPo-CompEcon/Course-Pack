{
 "cells": [
  {
   "cell_type": "markdown",
   "metadata": {
    "slideshow": {
     "slide_type": "slide"
    }
   },
   "source": [
    "# Function Approximation\n",
    "\n",
    "\n",
    "Sciences Po, Spring 2016"
   ]
  },
  {
   "cell_type": "markdown",
   "metadata": {
    "slideshow": {
     "slide_type": "slide"
    }
   },
   "source": [
    "\n",
    "## Outline\n",
    "\n",
    "1. Overview of Approximation Methods\n",
    "\t1. Interpolation\n",
    "\t1. Regression\n",
    "1. Polynomial Interpolation\n",
    "1. Spline Interpolation\n",
    "1. Multidimensional Approximation\n",
    "\n"
   ]
  },
  {
   "cell_type": "markdown",
   "metadata": {
    "slideshow": {
     "slide_type": "slide"
    }
   },
   "source": [
    "\n",
    "## Approximation Methods\n",
    "\n",
    "* Confronted with a non-analytic function $f$ (i.e. something not like $log(x)$), we need a way to numerically represent $f$ in a computer.\n",
    "\t* If your problem is to compute a value function in a dynamic problem, you don't have an analytic representation of $V$.\n",
    "\t* If you need to compute an equilibrium distribution for your model, you probably can't tell it's from one parametric family or another.\n",
    "* Approximations use *data* of some kind which informs us about $f$. Most commonly, we know the function values $f(x_i)$ at a corresponding finite set of points $X = \\{x_i\\}_{i=1}^N$.\n",
    "* The task of approximation is to take that data and tell us what the function value is at $f(y),y\\not \\in X$.\n",
    "* To an economist this should sound very familiar: take a dataset, learn it's structure, and make predictions.\n",
    "* The only difference is that we can do much better here, because we have more degree's of freedom (we can choose our $X$ in $Y=\\beta X + \\epsilon$)"
   ]
  },
  {
   "cell_type": "markdown",
   "metadata": {
    "slideshow": {
     "slide_type": "subslide"
    }
   },
   "source": [
    "\n",
    "## Some Classification\n",
    "\n",
    "* Local Approximations: approximate function and it's derivative $f,f'$ at a *single* point $x_0$. Taylor Series:\n",
    "\t$$ f(x) = f(x_0) + (x-x_0)f'(x_0) + \\frac{(x-x_0)^2}{2}f''(x_0) + \\dots + \\frac{(x-x_0)^n}{n!}f^{n}(x_0) $$\n",
    "* Interpolation or *Colocation*: find a function $\\hat{f}$ that is a good fit to $f$, and require that $\\hat{f}$ *passes through* the points. If we think of there being a *residual* $\\epsilon_i = f(x_i) - \\hat{f}(x_i)$ at each grid point $i$, this methods succeeds in setting $\\epsilon_i=0,\\forall i$.\n",
    "* Regression: Minimize some notion of distance (squared) between $\\hat{f}$ and $f$, without the requirement of pass through. "
   ]
  },
  {
   "cell_type": "markdown",
   "metadata": {
    "slideshow": {
     "slide_type": "slide"
    }
   },
   "source": [
    "## Doing Interpolation in Julia\n",
    "\n",
    "* In practice, you will make heavy use of high-quality interpolation packages in julia.\n",
    "* List in the end.\n",
    "* Nevertheless, function approximation is *extremely* problem-specific, so sometimes a certain approach does not work for your problem.\n",
    "* This is why we will go through the mechanics of some common methods.\n",
    "* I would like you to know where to start drilling if you need to go and hack somebody elses code."
   ]
  },
  {
   "cell_type": "markdown",
   "metadata": {
    "slideshow": {
     "slide_type": "slide"
    }
   },
   "source": [
    "\n",
    "## Interpolation Basics\n",
    "\n",
    "* Let $f$ be a smooth function mapping $\\mathbb{R}^d \\mapsto \\mathbb{R}$, and define $\\hat{f}(\\cdot;c)$ to be our parametric approximation function. We generically define this as\n",
    "\t$$  \\hat{f}(x;c) = \\sum_{j=1}^J c_j \\phi_j(x) $$\n",
    "\twhere \n",
    "\t* $\\phi_j : \\mathbb{R}^d \\mapsto \\mathbb{R}$ is called a **basis function**,\n",
    "\t* $c={c_1,c_2,\\dots,c_J}$ is a coefficient vector\n",
    "* The integer $J$ is the *order* of the interpolation.\n",
    "* Our problem is to choose $(\\phi_i,c)$ in some way.\n",
    "* We will construct a *grid* of $M\\geq J$ points ${x_1,\\dots,x_M}$ within the domain $\\mathbb{R}^d$, and we will denote the *residuals* at each grid point by $\\epsilon = {\\epsilon_1,\\dots,\\epsilon_M}$:\n",
    "\t$$ \\left[\\begin{array}{c}\n",
    "\t\t\\epsilon_1 \\\\\n",
    "\t\t \\vdots \\\\\n",
    "\t\t\\epsilon_M \\\\ \\end{array} \\right]  = \\left[\\begin{array}{c} f(x_1) \\\\ \\vdots \\\\ f(x_M)  \\end{array} \\right] - \\left[\\begin{array}{ccc} \n",
    "\t\t\\phi_1(x_1) & \\dots & \\phi_J(x_1) \\\\   \n",
    "\t\t\\vdots      & \\ddots & \\vdots \\\\   \n",
    "\t\t\\phi_1(x_M) & \\dots & \\phi_J(x_M)    \n",
    "\t\t\\end{array} \\right]  \\cdot \n",
    "\t\t\\left[\\begin{array}{c} c_1 \\\\ \\vdots \\\\ c_J  \\end{array} \\right]\n",
    "\t\t$$"
   ]
  },
  {
   "cell_type": "markdown",
   "metadata": {
    "slideshow": {
     "slide_type": "subslide"
    }
   },
   "source": [
    "* *Interpolation* or *colocation* occurs when $J=M$, i.e. we have a square matrix of basis functions, and can exactly solve this.\n",
    "* We basically need to solve the system\n",
    "\t$$ \\begin{align} \\sum_{j=1}^n c_j \\phi_j(x_i) &= f(x_i),\\forall i=1,2,\\dots,n \\\\\n",
    "\t                  \\mathbf{\\Phi c}&= \\mathbf{y}\n",
    "\t    \\end{align}\n",
    "\t $$\n",
    "\twhere the second line uses vector notation, and $\\mathbf{y}$ has all values of $f$.\n",
    "* Solution: $\\mathbf{c}= \\mathbf{\\Phi}^{-1}y$.\n",
    "\n"
   ]
  },
  {
   "cell_type": "markdown",
   "metadata": {
    "slideshow": {
     "slide_type": "slide"
    }
   },
   "source": [
    "\n",
    "## Regression Basics\n",
    "\n",
    "* Clearly, on the previous slide we required that there are as many interpolation nodes as there are basis functions - we had $J$ equations for $M$ unknowns, so there exists a unique solution for $c$.\n",
    "* We needed to *invert* $\\mathbf{\\Phi}$.\n",
    "* If we have more, $M>J$ say, interpolation nodes than basis functions, we cannot do that. Instead we can define a loss function, and minimize it. \n",
    "* In the case of squared loss, of course, this leads to the least squares solution:\n",
    "\t$$ \\begin{align} e_i &= f(x_i) - \\sum_{j=1}^n c_j \\phi_j(x_i) \\\\\n",
    "\t        \\min_c e_i^2 & \\implies \\\\\n",
    "\t        c            &= (\\Phi'\\Phi)^{-1} \\Phi'y\n",
    "\t    \\end{align}\n",
    "\t $$"
   ]
  },
  {
   "cell_type": "markdown",
   "metadata": {
    "slideshow": {
     "slide_type": "slide"
    }
   },
   "source": [
    "\n",
    "## Spectral and Finite Element Methods\n",
    "\n",
    "* Spectral Methods are such that the basis functions are non-zero over the entire domain of $f$.\n",
    "\t* Polynomial interpolation\n",
    "\t* Chebychev interpolation\n",
    "* Finite Element methods are such that basis functions are non-zero only on a subset of the domain.\n",
    "\t* Splines\n",
    "\t\t* Linear splines, i.e. splines of degree 1, a.k.a. *linear approximation*\n",
    "\t\t* Higher order splines, mainly the *cubic spline*."
   ]
  },
  {
   "cell_type": "markdown",
   "metadata": {
    "slideshow": {
     "slide_type": "subslide"
    }
   },
   "source": [
    "\n",
    "## What makes a **good** Approximation?\n",
    "\n",
    "* Should be arbitrarily accurate as we increase $n$.\n",
    "* $\\Phi$ Should be efficiently (fast) computable. If $\\Phi$ were differentiable, we could easily get e.g. $\\hat{f}'(x) = \\sum_{j=1}^J c_j \\phi_j'(x_i)$\n",
    "* $c$ Should be efficiently (fast) computable.\n",
    "\n"
   ]
  },
  {
   "cell_type": "markdown",
   "metadata": {
    "slideshow": {
     "slide_type": "slide"
    }
   },
   "source": [
    "# Polynomial Interpolation\n",
    "\n",
    "* For any continuous real-valued function $f$ on interval $[a,b]$, and an $\\epsilon>0$, there is a polynomial $p$, such that\n",
    "\t$$ || f - p ||_\\infty \\equiv \\sup_{x\\in[a,b]} |f(x)-p(x)| < \\epsilon $$\n",
    "* However, the choice of $p$ is critical. *Orthogonal Polynomials* have been shown to perform very well.\n",
    "\n",
    "> <span style=\"color:red\">Definition - Orthogonal Polynomials</span>: an orthogonal polynomial sequence is a family of polynomials such that any two different polynomials in the sequence are orthogonal to each other under some inner product. \n",
    "\n",
    "* There are many families that satisfy this. See [@judd-book] table 6.3 for an overview.\n",
    "* We will now look at a widely used family, the Chebyshev polynomial."
   ]
  },
  {
   "cell_type": "markdown",
   "metadata": {
    "deletable": true,
    "editable": true,
    "slideshow": {
     "slide_type": "subslide"
    }
   },
   "source": [
    "\n",
    "## Chebyshev Nodes\n",
    "\n",
    "* *Chebyshev Nodes* are defined in the interval $[-1,1]$ as \n",
    "\t$$ x_i = \\cos\\left(\\frac{2k-1}{2n} \\pi\\right), k=1,\\dots,n $$\n",
    "* Which maps to general interval $[a,b]$ as\n",
    "\t$$ x_i = \\frac{1}{2} (a+b) + \\frac{1}{2} (b-a) \\cos\\left(\\frac{2k-1}{2n} \\pi\\right) , k=1,\\dots,n $$\n",
    "* Chebyshev nodes are **not** evenly spaced: there are more points towards the boundaries.\n",
    "\n",
    "~~~~~~~~~~~~ {.julia}\n"
   ]
  },
  {
   "cell_type": "code",
   "execution_count": 1,
   "metadata": {
    "collapsed": false,
    "slideshow": {
     "slide_type": "subslide"
    }
   },
   "outputs": [
    {
     "data": {
      "image/png": "[encoded data removed]",
      "text/plain": [
       "PyPlot.Figure(PyObject <matplotlib.figure.Figure object at 0x32d7cbcd0>)"
      ]
     },
     "metadata": {},
     "output_type": "display_data"
    },
    {
     "name": "stderr",
     "output_type": "stream",
     "text": [
      "/Users/florian.oswald/.julia/v0.5/Conda/deps/usr/lib/python2.7/site-packages/matplotlib/font_manager.py:273: UserWarning: Matplotlib is building the font cache using fc-list. This may take a moment.\n",
      "  warnings.warn('Matplotlib is building the font cache using fc-list. This may take a moment.')\n"
     ]
    }
   ],
   "source": [
    "using PyPlot\n",
    "using FastGaussQuadrature: gausschebyshev\n",
    "nodes = gausschebyshev(11)  # generate 11 Chebyshev Nodes\n",
    "fig = figure(figsize=(10,4))\n",
    "title(L\"Chebyshev Nodes $x \\in [-1,1]$\")\n",
    "ax = axes()\n",
    "ax[:plot](nodes[1], ones(11), \"+r\")\n",
    "ax[:yaxis][:set_visible](false)\n",
    "fig[:canvas][:draw]()  # update figure"
   ]
  },
  {
   "cell_type": "markdown",
   "metadata": {},
   "source": [
    "\n",
    "## What Polynomial to use? What form for $\\Phi$?\n",
    "\n",
    "* In principle the *monomial basis* could be used. It is just the power functions of $x$: $1,x,x^2,x^3,\\dots$\n",
    "* Stacking this up for each evaluation node (Chebyshev, or any other), gives the *Vandermonde Matrix*:\n",
    "\t$$ V = \\left[\\begin{matrix} \n",
    "\t\t\t1 & x_1 & \\dots & x_1^{n-2} & x_1^{n-1} \\\\ \n",
    "\t\t\t1 & x_2 & \\dots & x_2^{n-2} & x_2^{n-1} \\\\ \n",
    "\t\t\t\\vdots & \\vdots & \\ddots &  & \\vdots \\\\ \n",
    "\t\t\t1 & x_m & \\dots & x_m^{n-2} & x_m^{n-1} \n",
    "\t\t\t\\end{matrix} \\right]\n",
    "\t\t\t$$\n",
    "    for the case with $m$ evaluation nodes for $x$, and $n$ basis functions for each $x_i$.\n",
    "* $V$ is ill-conditioned and thus a bad choice.\n",
    "* A much better polynomial basis is - surprise, surprise - the *Chebyshev Polynomial basis*.\n",
    "\n"
   ]
  },
  {
   "cell_type": "markdown",
   "metadata": {
    "slideshow": {
     "slide_type": "subslide"
    }
   },
   "source": [
    "## Evaluating the Chebyshev Polynomial and Basis Function\n",
    "* As before, this Basis is defined in $[-1,1]$, so for general $x\\in[a,b]$ we normalize $x$ to\n",
    "\t$$ z_i = 2\\frac{x_i-a}{b-a} -1 $$\n",
    "* There are several ways to obtain the value of the order $j$ Chebyshev polynomial at $z$, e.g. to get $\\sum_{i=0}^n\n",
    "a_i T_i(z)$.\n",
    "\t1. use definition $T_j(z) = \\cos(\\arccos(z)j)$. Or\n",
    "\t2. Recursively we have that $\\phi_j(x) = T_{j-1}(z)$, and\n",
    "\t\t$$ \\begin{align}\n",
    "\t\t\tT_0(z) =& 1 \\\\\n",
    "\t\t\tT_1(z) =& z \\\\\n",
    "\t\t\tT_{i+1}(z) =& 2zT_i(z) - T_{i-1}(z),i=1,\\dots,n\n",
    "\t\t\t\\end{align}\n",
    "\t\t\t$$\n",
    "\n"
   ]
  },
  {
   "cell_type": "markdown",
   "metadata": {
    "slideshow": {
     "slide_type": "subslide"
    }
   },
   "source": [
    "### Constructing $\\Phi$ as $T$ evaluated *at* the Chebyshev Nodes\n",
    "* Combining Chebyshev nodes evaluated at $T$ to construct $\\Phi$ is a particularly good idea.\n",
    "* Doing so, we obtain an interpolation matrix $\\Phi$ with typical element\n",
    "\t$$ \\phi_{ij} = \\cos\\left( \\frac{(n-i+0.5)(j-1)\\pi}{n}\\right)  $$\n",
    "* And we obtain that $\\Phi$ is indeed orthogonal\n",
    "\t$$ \\Phi^T \\Phi = \\text{diag}\\{n,n/2,n/2,\\dots,n/2\\}  $$\n",
    "\n",
    "\n"
   ]
  },
  {
   "cell_type": "markdown",
   "metadata": {
    "slideshow": {
     "slide_type": "slide"
    }
   },
   "source": [
    "## (Chebyshev) Interpolation Proceedure\n",
    "\n",
    "* Let's summarize this proceedure.\n",
    "* Instead of Chebyshev polynomials we could be using any other suitable family of polynomials.\n",
    "* To obtain a Polynomial interpolant $\\hat{f}$, we need:\n",
    "\t1. a function to $f$ interpolate. We need to be able to get the function values somehow.\n",
    "\t1. A set of (Chebyshev) interpolation nodes at which to compute $f$\n",
    "\t1. An interpolation matrix $\\Phi$ that corresponds to the nodes we have chosen.\n",
    "\t1. A resulting coefficient vector $c$\n",
    "* To obtain the value of the interpolation at $x'$ off our grid, we also need a way to evaluate $\\Phi(x')$\t.\n",
    "\t1. Evaluate the Basis function $\\Phi$ at $x'$\n",
    "\t2. obtain new values as $y = \\Phi c$."
   ]
  },
  {
   "cell_type": "markdown",
   "metadata": {
    "slideshow": {
     "slide_type": "slide"
    }
   },
   "source": [
    "## Polynomial Interpolation with `Julia`: `ApproxFun.jl`\n",
    "\n",
    "* [`ApproxFun.jl`](https://github.com/ApproxFun/ApproxFun.jl) is a Julia package based on the Matlab package [`chebfun`](http://www.chebfun.org). It is quite amazing.\n",
    "* More than just *function approximation*. This is a toolbox to actually *work* with functions.\n",
    "* given 2 functions $f,g$, we can do algebra with them, i.e. $h(x) = f(x) + g(x)^2$\n",
    "* We can differentiate and integrate\n",
    "* Solve ODE's and PDE's\n",
    "* represent period functions\n",
    "* Head over to the website and look at the readme."
   ]
  },
  {
   "cell_type": "code",
   "execution_count": null,
   "metadata": {
    "collapsed": true,
    "slideshow": {
     "slide_type": "subslide"
    }
   },
   "outputs": [],
   "source": [
    "# works even with discontinuities!\n",
    "using ApproxFun\n",
    "ff = x->sign(x-0.1)/2 + cos(4*x);  # sign introduces a jump at 0.1\n",
    "x  = Fun(identity)\t# set up a function space\n",
    "space(x)\n",
    "f  = ff(x)\t# define ff on that space\n",
    "ApproxFun.plot(f)\t# plot\n",
    "\n",
    "# whats the first deriv at 0.785?\n",
    "f'(0.785)\n",
    "# integral of f?\n",
    "g = cumsum(f)\n",
    "g = g + f(-1)\n",
    "integral = norm(f-g)\n",
    "\n",
    "\n"
   ]
  },
  {
   "cell_type": "markdown",
   "metadata": {
    "slideshow": {
     "slide_type": "subslide"
    }
   },
   "source": [
    "\n",
    "* The main purpose of this package is to manipulate analytic functions, i.e. function with an algebraic representation.\n",
    "* There is the possibility to supply a set of data points and fit a polynomial:"
   ]
  },
  {
   "cell_type": "code",
   "execution_count": null,
   "metadata": {
    "collapsed": true,
    "slideshow": {
     "slide_type": "subslide"
    }
   },
   "outputs": [],
   "source": [
    "S=Chebyshev([-1,1])\n",
    "x=points(S,20)  # Get 20 points from that space\n",
    "v=cos(cos(4*x))\n",
    "f=Fun(ApproxFun.transform(S,v),S)\n",
    "setplotter(\"PyPlot\")\n",
    "figure()\n",
    "subplot(121) #create first axis of 1x2 plot array\n",
    "ApproxFun.plot(f)\n",
    "title(L\"$f(x)=\\cos(4x)$\")\n",
    "# what about some random data?\n",
    "v2=rand(20)\n",
    "f2=Fun(ApproxFun.transform(S,v2),S)\n",
    "subplot(122) #create second axis of 1x2 plot array\n",
    "title(\"x = rand(20)\")\n",
    "ApproxFun.plot(f2,linewidth=1.5)\n",
    "ApproxFun.plot(x,v2,marker=\"o\",color=\"red\")\n",
    "\n",
    "#Check out more examples with [my conversation with one of the package authors](https://github.com/ApproxFun/ApproxFun.jl/issues/275)\n",
    "\n",
    "\n"
   ]
  },
  {
   "cell_type": "code",
   "execution_count": null,
   "metadata": {
    "collapsed": true,
    "deletable": true,
    "editable": true
   },
   "outputs": [],
   "source": [
    "\n",
    "-----------------------\n",
    "\n",
    "# `ApproxFun.jl` fitting some (random) data\n",
    "\n",
    "<div class=\"center\" style=\"width: auto; margin-left: auto; margin-right: auto;\">![`ApproxFun.jl` data fitting](figs/approxFun-data.png) </div>\n",
    "\n",
    "-----------------------\n",
    "\n",
    "# Splines: Piecewise Polynomial Approximation\n",
    "\n",
    "* Splines are a finite element method, i.e. there are regions of the function domain where some basis functions are zero.\n",
    "* As such, they provide a very flexible framework for approximation instead of high-order polynomials.\n",
    "\t* Keep in mind that Polynomials basis functions are non-zero on the entire domain. Remember the Vandermonde matrix.\n",
    "* They bring some element of local approximation back into our framework. What happens at one end of the domain to the function is not important to what happens at the other end.\n",
    "* Looking back at the previous plot of random data: we are searching for **one** polynomial to fit **all** those wiggles. A spline will allow us to design **different** polynomials in different parts of the domain.\n",
    "\n",
    ". . .\n",
    "\n",
    "## Splines: Basic Setup\n",
    "\n",
    "* The fundamental building block is the *knot vector*, or the *breakpoints vector* $\\mathbf{z}$ of length $p$. An element of $\\mathbf{z}$ is $z_i$.\n",
    "* $\\mathbf{z}$ is ordered in ascending order.\n",
    "* $\\mathbf{z}$ spans the domain $[a,b]$ of our function, and we have that $a=z_1,b=z_p$\n",
    "* A spline is of *order k* if the polynomial segments are k-th order polynomials.\n",
    "* Literature: [@deboor] is the definitive reference for splines.\n",
    "\n",
    "-----------------------\n",
    "\n",
    "# Splines: Characterization\n",
    "\n",
    "* Given $p$ knots, there are $p-1$ polynomial segments of order $k$, each characterized by $k+1$ coefficients, i.e. a total of $(p-1)(k+1)$ parameters.\n",
    "* However, we also require the spline to be continuous and differentiable of degree $k-1$ at the $p-2$ interior breakpoints.\n",
    "* Imposing that uses up an additional $k(p-2)$ conditions.\n",
    "* We are left with $n = (p-1)(k+1) - k(p-2) = p+k-1$ free parameters.\n",
    "* A Spline of order $k$ and $p$ knots can thus be written as a linear combination of it's $n = p+k-1$ basis functions.\n",
    "\n",
    "-----------------------\n",
    "\n",
    "# Splines: Show some Basis Functions\n",
    "\n",
    "\n",
    "~~~~~~~~~~~~ {.julia}\n",
    "using ApproXD   \n",
    "# Pkg.clone(\"https://github.com/floswald/ApproXD.jl\")\n",
    "using PyPlot\n",
    "bs = BSpline(7,3,0,1) #7 knots, degree 3 in [0,1]\n",
    "# how many basis functions? (go back 1 slide.)\n",
    "# getNumCoefs(bs)\n",
    "B = full(getBasis(collect(linspace(0,1.0,500)),bs))\n",
    "# setup the plot\n",
    "fig,axes = subplots(3,3,figsize=(10,5))\n",
    "for i in 1:3\n",
    "\tfor j in 1:3\n",
    "\t\tax = axes[j,i]\n",
    "\t\tcount = i+(j-1)*3\n",
    "\t\tax[:plot](B[:,count])\n",
    "\t\tax[:grid]()\n",
    "\t\tax[:set_title](\"Basis $(count-1)\")\n",
    "\t\tax[:xaxis][:set_visible](false)\n",
    "\t\tax[:set_ylim](-0.1,1.1)\n",
    "\t\tax[:xaxis][:set_major_locator]=matplotlib[:ticker][:MultipleLocator](1)\n",
    "\t\tax[:yaxis][:set_major_locator]=matplotlib[:ticker][:MultipleLocator](1)\n",
    "\tend\n",
    "end\n",
    "fig[:canvas][:draw]()"
   ]
  },
  {
   "cell_type": "markdown",
   "metadata": {
    "deletable": true,
    "editable": true
   },
   "source": [
    "-----------------------\n",
    "\n",
    "# Splines: Show some Basis Functions\n",
    "\n",
    "<div class=\"center\" style=\"width: auto; margin-left: auto; margin-right: auto;\">![Cubic Spline Basis of degree 3](figs/cubic-bspline.png) </div>\n",
    "\n",
    "* Notice that placing each of those panels on top of each other generates a sparse matrix!\n",
    "\n",
    "-----------------------\n",
    "\n",
    "\n",
    "\n",
    "\n",
    "# B-Splines: Definition\n",
    "\n",
    "* We mostly use Basis Splines, or **B-Splines**.\n",
    "* Here is a recursive definition of a B-Spline (and what is used in `ApproXD`):\n",
    "* Denote the $j$-th basis function of degree $k$ with knot vector $\\mathbf{z}$  at $x$ as $B_j^{k,\\mathbf{z}} (x)$\n",
    "* Again, there are $n = k + p - 1$ $B$'s (where $p$` = length(z)`)\n",
    "* We can define $B_j^{k,\\mathbf{z}} (x)$ recursively like this:\n",
    "\t$$  B_j^{k,\\mathbf{z}} (x) = \\frac{x-z_{j-k}}{z_j - z_{j-k}} B_{j-1}^{k-1,\\mathbf{z}} (x)  + \\frac{z_{j+1}-x}{z_{j+1} - z_{j+1-k}} B_{j}^{k-1,\\mathbf{z}} (x), j=1,\\dots,n$$\n",
    "\n",
    ". . .\n",
    "\n",
    "\n",
    "* The recursion starts with\n",
    "\t$$ B_j^{0,\\mathbf{z}} (x) = \\begin{cases}\n",
    "\t\t1 & \\text{if }z_j \\leq x <\tz_{j+1}\\\\\n",
    "\t\t0 & \\text{otherwise.}\n",
    "\t\t\\end{cases}\n",
    "\t\t$$\n",
    "* For this formulation to work, we need to extend the knot vector for $j<1,j>p$:\n",
    "\t$$ z_j = \\begin{cases}\n",
    "\t\ta & \\text{if }j \\leq 1\\\\\n",
    "\t\tb & \\text{if }j \\geq p\n",
    "\t\t\\end{cases} $$\n",
    "* And we need to set the endpoints\n",
    "\t$$ B_0^{k-1,\\mathbf{z}} = B_n^{k-1,\\mathbf{z}} =0 $$\n",
    "* You may see that this gives rise to a triangular computation strategy, as pointed out [here](http://www.cs.mtu.edu/~shene/COURSES/cs3621/NOTES/spline/B-spline/bspline-basis.html).\n",
    "\n",
    "\n",
    "-----------------------\n",
    "\n",
    "# B-Splines: Derivatives and Integrals\n",
    "\n",
    "* This is another very nice thing about B-Splines.\n",
    "* The derivative wrt to it's argument $x$ is\n",
    "\t$$ \\frac{d B_j^{k,\\mathbf{z}} (x)}{dx} = \\frac{k}{z_j - z_{j-k}} B_{j-1}^{k-1,\\mathbf{z}} (x)  + \\frac{k}{z_{j+1} - z_{j+1-k}} B_{j}^{k-1,\\mathbf{z}} (x), j=1,\\dots,n$$\n",
    "* Similarly, the Integral is just the sum over the basis functions:\n",
    "\t$$ \\int_a^x B_j^{k,\\mathbf{z}} (y) dy = \\sum_{i=j}^n \\frac{z_i - z_{i-k}}{k} B_{i+1}^{k+1,\\mathbf{z}} (x)  $$\n",
    "\n",
    "\n",
    "-----------------------\n",
    "\n",
    "# Linear B-Spline: A useful special case\n",
    "\n",
    "* This is *connecting the dots with a straight line*\n",
    "* This may incur some approximation error if the underlying function is very curved between the dots.\n",
    "* However, it has some benefits: \n",
    "\t* it is shape-preserving, \n",
    "\t* it is fast,\n",
    "\t* it is easy to build.\n",
    "* For a linear spline with evenly spaced breakpoints, this becomes almost trivial.\n",
    "\t* Let's define $h = \\frac{b-a}{n-1}$ as the distance between breakpoints.\n",
    "\t* Our basis function becomes very simple, giving us a measure of how far $x$ is from the next knot:\n",
    "\t\t$$ \\phi_j (x) = \\begin{cases}\n",
    "\t\t\t1 - \\frac{|x-z_j|}{h} & \\text{if } |x-z_j| \\leq h \\\\\n",
    "\t\t\t0                    & \\text{otherwise}\n",
    "\t\t\t\\end{cases} $$\n",
    "\t* Notice that each interior basis function (i.e. not 0 and not $n$) has witdth $2h$.\n",
    "\n",
    "~~~~~~~~~~~~ {.julia}\n",
    "using ApproXD\n",
    "bs = BSpline(9,1,0,1) #9 knots, degree 1 in [0,1]\n",
    "# how many basis functions? (go back 1 slide.)\n",
    "# getNumCoefs(bs)\n",
    "B = full(getBasis(collect(linspace(0,1.0,500)),bs))\n",
    "# setup the plot\n",
    "fig,axes = subplots(3,3,figsize=(10,5))\n",
    "for i in 1:3\n",
    "\tfor j in 1:3\n",
    "\t\tax = axes[j,i]\n",
    "\t\tcount = i+(j-1)*3\n",
    "\t\tax[:plot](B[:,count])\n",
    "\t\tax[:grid]()\n",
    "\t\tax[:set_title](\"Basis $(count-1)\")\n",
    "\t\tax[:xaxis][:set_visible](false)\n",
    "\t\tax[:set_ylim](-0.1,1.1)\n",
    "\t\tax[:xaxis][:set_major_locator]=matplotlib[:ticker][:MultipleLocator](1)\n",
    "\t\tax[:yaxis][:set_major_locator]=matplotlib[:ticker][:MultipleLocator](1)\n",
    "\tend\n",
    "end\n",
    "fig[:canvas][:draw]()\n",
    "~~~~~~~~~~~~~~\n",
    "\n",
    "-----------------------\n",
    "\n",
    "# Splines: Linear Spline Plot\n",
    "\n",
    "<div class=\"center\" style=\"width: auto; margin-left: auto; margin-right: auto;\">![Spline Basis of degree 1](figs/linear-bspline.png) </div>\n",
    "\n",
    "-----------------------\n",
    "\n",
    "# Linear B-Spline: Evaluation\n",
    "\n",
    "* In order to evaluate the linear interpolator, we need to know only one thing: Which knot span is active, i.e. what is $j$ s.t. $x\\in [z_j, z_{j+1}]$?\n",
    "* This is a classic problem in computer science. Binary search.\n",
    "* `julia` implements [`searchsortedlast`](http://docs.julialang.org/en/release-0.4/stdlib/sort/#Base.searchsortedlast).\t\n",
    "* Once we know $j$, it's easy to get the interpolated value as\n",
    "\t$$ \\hat{f}(x) = \\frac{x-z_j}{h}  f(z_{j+1}) + \\frac{z_{j+1}-x}{h}  f(z_{j}) $$\n",
    "\n",
    "\n",
    "\n",
    "-----------------------\n",
    "\n",
    "\n",
    "# The Importance of Knot Placement\n",
    "\n",
    "* We just talked about *equally spaced knots*. This is just a special case.\n",
    "* B-Splines give us the flexibility to place the knots where we want.\n",
    "* Contrary to Polynomial interpolations (where we cannot choose the evaluation nodes), this is very helpful in cases where we know that a function is very curved in a particular region.\n",
    "* Canonical Example: Runge's function: $f(x) = (1+25x^2)^{-1}$.\n",
    "* Also: If you know that your function has a kink (i.e. a discontinuous first derivative) at $\\hat{x}$, then you can stack breakpoints on top of each other *at* $\\hat{x}$\n",
    "\n",
    "-----------------------\n",
    "\n",
    "# B-Spline Approximation with [`Interpolations.jl`](https://github.com/tlycken/Interpolations.jl)\n",
    "\n",
    "* Let's go the readme page and give it a look!\n",
    "\n",
    "-----------------------\n",
    "\n",
    "# The CompEcon Toolbox of Miranda and Fackler\n",
    "\n",
    "* [CompEcon.jl](https://github.com/spencerlyon2/CompEcon.jl)\n",
    "\n",
    "\n",
    "-----------------------\n",
    "\n",
    "# Mulitidimensional Approximation\n",
    "\n",
    "* Up to now, everything we did was in one dimesion.\n",
    "* Economic problems *often* have more dimension than that.\n",
    "\t* The number of state variables in your value functions are the number of dimensions.\n",
    "* We can readily extend what we learned into more dimensions.\n",
    "* However, we will quickly run into feasibility problems: hello *curse of dimensionality*.\n",
    "\n",
    "\n",
    "------------------------\n",
    "\n",
    "# Tensor Product of univariate Basis Functions: Product Rule\n",
    "\n",
    "* One possibility is to approximate e.g. the 2D function $f(x,y)$ by\n",
    "\t$$ \\hat{f}(x,y) = \\sum_{i=1}^n \\sum_{j=1}^m c_{i,j} \\phi_i^x(x) \\phi_j^y(y)  $$\n",
    "\t* here $\\phi_i^x$ is the basis function in $x$ space, \n",
    "\t* you can see that the coefficient vector $c_{i,j}$ is indexed in two dimensions now.\n",
    "\t* Notice that our initial notation was general enough to encompass this case, as we defined the basis functions as $\\mathbb{R}^d \\mapsto \\mathbb{R}$. So with the product rule, this mapping is just given by $\\phi_i^x(x) \\phi_j^y(y)$.\n",
    "* This formulation requires that we take the product of $\\phi_i^x(x), \\phi_j^y(y)$ at *all* combinations of their indices, as is clear from the summations.\n",
    "* This is equivalent to the tensor product between $\\phi_i^x$ and $\\phi_j^y$.\n",
    "\n",
    "## Computing Coefficients from Tensor Product Spaces {#compute-c}\n",
    "\n",
    "* Extending this into $D$ dimensions, where in each dim $i$ we have $n_i$ basis functions, we get\n",
    "\t$$ \\hat{f}(x_1,x_2,\\dots,x_D) = \\sum_{i_1=1}^{n_1} \\sum_{i_2=1}^{n_2} \\dots  \\sum_{i_D=1}^{n_D} c_{i_1,i_2,\\dots,i_D} \\phi_{i_1}(x_1) \\phi_{i_2}(x_2) \\dots \\phi_{i_D}(x_D)  $$ \n",
    "* In Vector notation\n",
    "\t$$ \n",
    "\t\\hat{f}(x_1,x_2,\\dots,x_D) =  \\left[ \\phi_{D}(x_D) \\otimes \\phi_{D-1}(x_{D-1})  \\otimes \\dots  \\otimes  \\phi_{1}(x_1) \\right]  c $$\n",
    "\twhere $c$ is is an $n=\\Pi_{i=1}^D n_i$ column vector\n",
    "* The solution is the interpolation equation as before,\n",
    "\t$$ \\begin{align}\\Phi c =& y \\\\\n",
    "\t\t\t\t\t\\Phi   =& \\Phi_D \\otimes \\Phi_{D-1} \\otimes \\dots \\otimes \\Phi_{1} \\end{align} $$\n",
    "\n",
    "------------------------\n",
    "\n",
    "# The Problem with Tensor Product of univariate Basis Functions\n",
    "\n",
    "* What's the problem?\n",
    "* Well, solving $\\Phi c = y$ is hard. \n",
    "* If we have as many evaluation points as basis functions in each dimension, i.e. if each single $\\Phi_i$ is a square matrix, $\\Phi$ is of size (n,n). \n",
    "* Inverting this is *extremely* hard even for moderately sized problems.\n",
    "* Sometimes it's not even possible to allocate $\\Phi$ in memory.\n",
    "* Here it's important to remember the sparsity structure of a spline basis function.\n",
    "\n",
    "~~~~~~~~~~~~~~ {.julia}\n",
    "using PyPlot\n",
    "fig = figure()\n",
    "ax = axes()\n",
    "ax[:imshow](B)  # B was the BSpline basis from before\n",
    "ax[:set_aspect](\"auto\")\n",
    "fig[:canvas][:draw]()\n",
    "~~~~~~~~~~~~~~~~~~\n",
    "\n",
    "\n",
    "------------------------\n",
    "\n",
    "# Sparseness of B-Spline Basis\n",
    "\n",
    "<div class=\"center\" style=\"width: auto; margin-left: auto; margin-right: auto;\">![BSpline basis functions are sparse. ](figs/spline-basis-sparse.png) </div>\n",
    "\n",
    "* Blue is zero.\n",
    "* the y axis lists 500 equispaced points in [0,1]\n",
    "* the x axis shows the value of all basis functions\n",
    "\t* i.e. each row is all basis functions evaluated at $x_i$\n",
    "* This is a cubic spline basis. at most $k+1=3$ basis are non-zero for any $x$.\n",
    "\n",
    "\n",
    "------------------------\n",
    "\n",
    "# Using Sparsity of Splines\n",
    "\n",
    "* It may be better to store the splines in sparse format.\n",
    "* Look at object `B` by typing `B` and `typeof(B)`\n",
    "* There are sparse system solvers available.\n",
    "* Creating and storing the inverse of $\\Phi$ destroys the sparsity structure (inverse of a sparse matrix is not sparse), and may not be a good idea.\n",
    "* Look back at [Computing coefficients form the tensor product](#compute-c)\n",
    "* We only have to sum over the non-zero entries! Every other operation is pure cost.\n",
    "* This is implemented in `ApproXD.jl` for example via"
   ]
  },
  {
   "cell_type": "code",
   "execution_count": null,
   "metadata": {
    "collapsed": true,
    "deletable": true,
    "editable": true
   },
   "outputs": [],
   "source": [
    "```julia\n",
    "    function evalTensor2{T}(mat1::SparseMatrixCSC{T,Int64},\n",
    "                            mat2::SparseMatrixCSC{T,Int64},\n",
    "                            c::Vector{T})\n",
    "    ```"
   ]
  },
  {
   "cell_type": "markdown",
   "metadata": {
    "deletable": true,
    "editable": true
   },
   "source": [
    "-----------------------\n",
    "\n",
    "# High Dimensional Functions: Introducing the Smolyak Grid\n",
    "\n",
    "* This is a modification of the Tensor product rule. \n",
    "* It elemininates points from the full tensor product according to their *importance* for the quality of approximation.\n",
    "* The user controls this quality parameter, thereby increasing/decreasing the size of the grid.\n",
    "* [@jmmv] is a complete technical reference for this method.\n",
    "* [@maliar-maliar] chapter 4 is very good overview of this topic, and the basis of this part of the lecture.\n",
    "\n",
    "--------------------\n",
    "\n",
    "# The Smolyak Grid in 2 Dimensions\n",
    "\n",
    "* Approximation level $\\mu \\in \\mathbb{N}$ governs the quality of the approximation.\n",
    "* Start with a unidimensional grid of points $x$:\n",
    "\t$$ x = \\left\\{-1,\\frac{-1}{\\sqrt{2}},0,\\frac{1}{\\sqrt{2}},1\\right\\} $$\n",
    "\twhich are 5 Chebyshev nodes (it's not important that those are Chebyshev nodes, any grid will work).\n",
    "* A 2D tensor product $x\\otimes x$ gives 25 grid points\n",
    "\t$$ x\\otimes x=\\left\\{(-1,-1),(-1,\\frac{-1}{\\sqrt{2}}),\\dots,(1,1)\\right\\} $$\n",
    "* The Smolyak method proceeds differently.\n",
    "* We construct three nested sets:\n",
    "\t$$ \\begin{array}{l}\n",
    "\t\ti=1 : S_1 = \\{0\\} \\\\\n",
    "\t\ti=2 : S_2 = \\{0,-1,1\\} \\\\\n",
    "\t\ti=3 : S_3 = \\left\\{-1,\\frac{-1}{\\sqrt{2}},0,\\frac{1}{\\sqrt{2}},1\\right\\}  \\end{array} $$\n",
    "* Then, we construct all possible 2D tensor products using elements from these nested sets in a table (next slide).\n",
    "* Finally, we select only those elements of the table, that satisfy the Smolyak rule:\n",
    "\t$$ i_1 + i_2 \\leq d + \\mu $$\n",
    "\twhere $i_1,i_2$ are column and row index, respectively, and $d,\\mu$ are the number of dimensions and the quality of approximation.\n",
    "\n",
    "--------------------\n",
    "\n",
    "# The Smolyak Grid in 2D: Tensor Table\n",
    "\n",
    "![[@maliar-maliar] table 3: All Tensor Products](figs/smolyak-tensortab.png)\n",
    "\n",
    "## Selecting Elements\n",
    "\n",
    "* Denote the Smolyak grid for $d$ dimensions at level $\\mu$ by $\\mathcal{H}^{d,\\mu}$.\n",
    "* if $\\mu=0$ we have $i_1+i_2\\leq 2$. Only one point satisfies this, and \n",
    "\t$$ \\mathcal{H}^{2,0} = \\{(0,0)\\} $$\n",
    "* if $\\mu=1$ we have $i_1+i_2\\leq 3$. Three cases satisfy this:\n",
    "\t1. $i_1 = 1, i_2=1 \\rightarrow (0,0)$\n",
    "\t1. $i_1 = 1, i_2=2 \\rightarrow (0,0),(0,-1),(0,1)$\n",
    "\t1. $i_1 = 2, i_2=1 \\rightarrow (0,0),(-1,0),(1,0)$\n",
    "\t* Therefore, the unique elements from the union of all of those is\n",
    "\t\t$$ \\mathcal{H}^{2,1} = \\{(0,0),(-1,0),(1,0),(0,-1),(0,1)\\} $$\n",
    "* if $\\mu=2$ we have $i_1+i_2\\leq 4$. Six cases satisfy this:\n",
    "\t1. $i_1 = 1, i_2=1$\n",
    "\t1. $i_1 = 1, i_2=2$\n",
    "\t1. $i_1 = 2, i_2=1$\n",
    "\t1. $i_1 = 1, i_2=3$\n",
    "\t1. $i_1 = 2, i_2=2$\n",
    "\t1. $i_1 = 3, i_2=1$\n",
    "\t* Therefore, the unique elements from the union of all of those is\n",
    "\t\t$$ \\mathcal{H}^{2,2} = \\left\\{(-1,1),(0,1),(1,1),(-1,0),(0,0),(1,0),(-1,-1),(0,-1),(1,-1),\\left(\\frac{-1}{\\sqrt{2}},0\\right),\\left(\\frac{1}{\\sqrt{2}},0\\right),\\left(0,\\frac{-1}{\\sqrt{2}}\\right),\\left(0,\\frac{1}{\\sqrt{2}}\\right)\\right\\} $$\n",
    "* Note that those elements are on the diagonal from top left to bottom right expanding through all the tensor products on table 3.\n",
    "\n",
    "------------------------\n",
    "\n",
    "# Size of Smolyak Grids\n",
    "\n",
    "* The Smolyak grid grows much slower (at order $d$ to a power of $\\mu$) than the Tensor grid (exponential growth)\n",
    "\n",
    "![[@maliar-maliar] figure 2: Tensor vs Smolyak in 2D](figs/smolyak-vs-tensor.png)\n",
    "\n",
    "![[@maliar-maliar] figure 4: Tensor vs Smolyak in 2D, number of grid points](figs/smolyak-tensor-points.png)\n",
    "\n",
    "------------------------\n",
    "\n",
    "# Smolyak Polynomials\n",
    "\n",
    "* Corresponding to the construction of grid points, there is the Smolyak way of constructing polynomials.\n",
    "* This works exactly as before. We start with a one-dimensional set of basis functions (again Chebyshev here, again irrelevant):\n",
    "\t$$ \\left\\{1,x,2x^2-1,4x^3-3x,8x^4-8x^2+1\\right\\} $$\n",
    "* Three nested sets:\n",
    "\t$$ \\begin{array}{l}\n",
    "\t\ti=1 : S_1 = \\{1\\} \\\\\n",
    "\t\ti=2 : S_2 = \\{1,x,2x^2-1\\} \\\\\n",
    "\t\ti=3 : S_3 = \\left\\{1,x,2x^2-1,4x^3-3x,8x^4-8x^2+1\\right\\}  \\end{array} $$\n",
    "* Denoting $\\mathcal{P}^{d,\\mu}$ the Smolyak polynomial, we follow exactly the same steps as for the grids to select elements of the full tensor product table 5:\n",
    "\n",
    "\n",
    "![[@maliar-maliar] figure 5: All Smolyak Polynomials in 2D](figs/smolyak-polynomial.png)\n",
    "\n",
    "\n",
    "------------------------\n",
    "\n",
    "# Smolyak Interpolation\n",
    "\n",
    "This proceeds as in the previouses cases:\n",
    "\n",
    "1. Evaluate $f$ at all grid points $\\mathcal{H}^{d,\\mu}$.\n",
    "1. Evaluate the set of basis functions given by $\\mathcal{P}^{d,\\mu}$f$ at all grid points $\\mathcal{H}^{d,\\mu}$.\n",
    "1. Solve for the interpolating coefficients by inverting the Basis function matrix.\n",
    "\n",
    "## Extensions\n",
    "\n",
    "* There is a lot of redundancy in computing the grids the way we did it.\n",
    "* More sophisticated approaches take care not to compute repeated elements.\n",
    "\n",
    "\n",
    "\n",
    "\n",
    "\n",
    "--------------\n",
    "\n",
    "# Smolyak Grids in Julia\n",
    "\n",
    "* There are at least 2 julia packages that implement this idea:\n",
    "\t* [https://github.com/EconForge/Smolyak](https://github.com/EconForge/Smolyak)\n",
    "\t* [https://github.com/alancrawford/Smolyak](https://github.com/alancrawford/Smolyak)\n",
    "\n",
    "\n",
    "\n",
    "---------------\n",
    "\n",
    "# Using `alancrawford/Smolyak`\n",
    "\n",
    "From the unit tests of that package:"
   ]
  },
  {
   "cell_type": "code",
   "execution_count": null,
   "metadata": {
    "attributes": {
     "classes": [
      "julia"
     ],
     "id": ""
    },
    "collapsed": true,
    "deletable": true,
    "editable": true
   },
   "outputs": [],
   "source": [
    "\tPkg.clone(\"https://github.com/alancrawford/Smolyak.git\")\n",
    "\n",
    "\t# here is the true function\n",
    "\t# in a real world application, evaluating this is the biggest cost\n",
    "\t# we would like to evaluate only a few times.\n",
    "\n",
    "\tslopes = rand(4)\t\n",
    "\ttruefun(x) = 1.1 + slopes[1]*x[1] - slopes[2]*x[2]^2 + (slopes[3]*x[3])^3 * slopes[4] * x[4]\n",
    "\n",
    "\t# choose approx level in each dim\n",
    "\tmu = [1,2,2,1]\n",
    "\tD = length(mu)\n",
    "\tlb = -2*ones(length(mu))\n",
    "\tub = 12*ones(length(mu))\n",
    "\tsg = SmolyakGrid(mu,lb,ub)\n",
    "\tsb = SmolyakBasis(sg)\n",
    "\tmakeBasis!(sb)\n",
    "\tsp = SmolyakPoly(sb)\n",
    "\n",
    "\tfor i in 1:sb.NumPts\n",
    "\t\tsp.Value[i] = truefun(sg.xGrid[i]) \t# Assign true fvals to poly\n",
    "\tend\n",
    "\tmake_pinvBFt!(sp,sb)\t\t\n",
    "\tSmolyak.MakeCoef!(sp) \t\t\n",
    "\n",
    "\t# make basis on random point\n",
    "\tNumObs = 50\n",
    "\tX = Vector{Float64}[ Float64[lb[d]+( ub[d]- lb[d])*rand() for d in 1:D] for i in 1:NumObs]\n",
    "\tsbX = SmolyakBasis(X,mu,lb,ub,0,0)\n",
    "\tmakeBasis!(sbX)\n",
    "\tspX = SmolyakPoly(sbX)\n",
    "\tcopy!(spX.Coef,sp.Coef)   # assign precomputed coefs\n",
    "\tynew = makeValue!(spX,sbX) # Interpolated Values\n",
    "\tvalsnew = [truefun(i) for i in X]\n",
    "\tusing PyPlot\n",
    "\tscatter(ynew,valsnew)\n",
    "\tylabel(\"truth\")\n",
    "\txlabel(\"approx\")\n",
    "\tgrid()\n"
   ]
  },
  {
   "cell_type": "markdown",
   "metadata": {
    "deletable": true,
    "editable": true
   },
   "source": [
    "-----------------------\n",
    "\n",
    "## Bibliography\n",
    "\n",
    "* [@fackler-miranda] is the main reference for this lecture. \n",
    "* [@judd-book] is the classic reference. A bit more difficult.\n",
    "* [@jesus-computing] gives an overview over computing languages widely used in Economics.\n",
    "\n",
    "-----------------\n",
    "\n",
    "\n",
    "# References"
   ]
  }
 ],
 "metadata": {
  "celltoolbar": "Slideshow",
  "kernelspec": {
   "display_name": "Julia 0.5.0",
   "language": "julia",
   "name": "julia-0.5"
  },
  "language_info": {
   "file_extension": ".jl",
   "mimetype": "application/julia",
   "name": "julia",
   "version": "0.5.0"
  }
 },
 "nbformat": 4,
 "nbformat_minor": 0
}
